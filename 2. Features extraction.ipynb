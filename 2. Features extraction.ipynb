{
 "cells": [
  {
   "cell_type": "code",
   "execution_count": null,
   "metadata": {
    "ExecuteTime": {
     "end_time": "2020-08-22T18:34:03.195913Z",
     "start_time": "2020-08-22T18:34:00.374279Z"
    }
   },
   "outputs": [],
   "source": [
    "import numpy as np\n",
    "import scipy\n",
    "import matplotlib.pyplot as plt\n",
    "import sklearn.preprocessing\n",
    "import librosa\n",
    "import librosa.display\n",
    "import IPython.display\n",
    "import os\n",
    "import pandas as pd"
   ]
  },
  {
   "cell_type": "code",
   "execution_count": null,
   "metadata": {
    "ExecuteTime": {
     "end_time": "2020-08-22T18:34:04.105485Z",
     "start_time": "2020-08-22T18:34:04.098677Z"
    }
   },
   "outputs": [],
   "source": [
    "audioFolders = os.listdir(\"speech_commands_v0.01\")\n",
    "filesToRemove = [\"README.md\",\"LICENSE\", \"testing_list.txt\", \"validation_list.txt\",\".DS_Store\", \"_background_noise_\", 'nine','eight','tree','three', 'sheila', 'one', 'bird', 'zero', 'seven', 'up', 'marvin', 'two', 'house', 'down', 'six', 'yes', 'on', 'five', 'off', 'four','cat', 'bed', 'happy','wow','dog']\n",
    "\n",
    "for file in filesToRemove:\n",
    "        audioFolders.remove(file)\n",
    "print(audioFolders)\n",
    "print(f\"Number of classes: {len(audioFolders)}\")"
   ]
  },
  {
   "cell_type": "code",
   "execution_count": null,
   "metadata": {
    "ExecuteTime": {
     "end_time": "2020-08-22T18:34:05.108986Z",
     "start_time": "2020-08-22T18:34:05.100059Z"
    }
   },
   "outputs": [],
   "source": [
    "def extract_feature_2d(file_name, n_mfcc, window, hop_length, n_fft, pad):\n",
    "    max_pad_len_mel = pad\n",
    "    max_pad_len_mfcc = pad\n",
    "    \n",
    "    audio, sample_rate = librosa.load(file_name) \n",
    "\n",
    "\n",
    "    \n",
    "    #Melspectrogram\n",
    "    mel = librosa.feature.melspectrogram(y=audio, sr=sample_rate, window=window, hop_length=hop_length, n_fft=n_fft) \n",
    "    mel = librosa.power_to_db(mel)    \n",
    "    pad_width = max_pad_len_mel - mel.shape[1]\n",
    "    mel_spec = np.pad(mel, pad_width=((0, 0), (0, pad_width)), mode='constant')\n",
    "    \n",
    "    #MFCC\n",
    "    mfccs = librosa.feature.mfcc(y=audio, sr=sample_rate, n_mfcc=n_mfcc, window=window, hop_length=hop_length, n_fft=n_fft)\n",
    "    pad_width = max_pad_len_mfcc - mfccs.shape[1]\n",
    "    mfccs = np.pad(mfccs, pad_width=((0, 0), (0, pad_width)), mode='constant')\n",
    "  \n",
    "    \n",
    "    return mel_spec, mfccs\n"
   ]
  },
  {
   "cell_type": "code",
   "execution_count": null,
   "metadata": {
    "ExecuteTime": {
     "end_time": "2020-08-22T19:13:21.745376Z",
     "start_time": "2020-08-22T19:07:58.573994Z"
    },
    "scrolled": true
   },
   "outputs": [],
   "source": [
    "from tqdm.notebook import tqdm\n",
    "\n",
    "features = []\n",
    "features2d = []\n",
    "featuresMelspec = []\n",
    "featuresMfcc = []\n",
    "#MFCC\n",
    "\n",
    "n_mfcc = 12\n",
    "window = \"hamming\"\n",
    "hop_length = 128\n",
    "n_fft = 882\n",
    "pad = 173\n",
    "\n",
    "\n",
    "\n",
    "#pad = sr/hop = 22050/hop\n",
    "\n",
    "\n",
    "\n",
    "for label in tqdm(audioFolders):\n",
    "    print(f\"Audio: {label}\")\n",
    "    \n",
    "    audios = os.listdir(f\"speech_commands_v0.01/{label}\")\n",
    "    \n",
    "\n",
    "    for audio in tqdm(audios):\n",
    "        if \".wav\" not in audio:\n",
    "            print(f\"Not audio: {audio}\")\n",
    "            continue\n",
    "            \n",
    "        file_name = f\"speech_commands_v0.01/{label}/{audio}\"\n",
    "\n",
    "        mel_spec, mfccs = extract_feature_2d(file_name, n_mfcc, window, hop_length, n_fft, pad)\n",
    "\n",
    "        featuresMelspec.append([mel_spec,label, audio])\n",
    "        featuresMfcc.append([mfccs,label, audio])"
   ]
  },
  {
   "cell_type": "code",
   "execution_count": null,
   "metadata": {
    "ExecuteTime": {
     "end_time": "2020-08-22T19:17:21.503897Z",
     "start_time": "2020-08-22T19:17:21.050524Z"
    }
   },
   "outputs": [],
   "source": [
    "# Convert into a Panda dataframe \n",
    "featuresMelspecDf = pd.DataFrame(featuresMelspec, columns=['feature','class_label','file_name'])\n",
    "featuresMfccDf = pd.DataFrame(featuresMfcc, columns=['feature2d','class_label','file_name'])\n"
   ]
  },
  {
   "cell_type": "code",
   "execution_count": null,
   "metadata": {
    "ExecuteTime": {
     "end_time": "2020-08-22T19:21:43.468994Z",
     "start_time": "2020-08-22T19:21:40.100707Z"
    }
   },
   "outputs": [],
   "source": [
    "# Save features\n",
    "import pickle\n",
    "\n",
    "with open(f\"features/melspec_N{n_mfcc}_W{window}_WL{n_fft}_HL{hop_length}.pickle\", 'wb') as output:\n",
    "    pickle.dump(featuresMelspecDf, output)\n",
    "    \n",
    "with open(f\"features/mfcc_2d_N{n_mfcc}_W{window}_WL{n_fft}_HL{hop_length}.pickle\", 'wb') as output:\n",
    "    pickle.dump(featuresMfccDf, output)"
   ]
  },
  {
   "cell_type": "code",
   "execution_count": null,
   "metadata": {},
   "outputs": [],
   "source": []
  },
  {
   "cell_type": "code",
   "execution_count": null,
   "metadata": {},
   "outputs": [],
   "source": []
  }
 ],
 "metadata": {
  "kernelspec": {
   "display_name": "Python 3",
   "language": "python",
   "name": "python3"
  },
  "language_info": {
   "codemirror_mode": {
    "name": "ipython",
    "version": 3
   },
   "file_extension": ".py",
   "mimetype": "text/x-python",
   "name": "python",
   "nbconvert_exporter": "python",
   "pygments_lexer": "ipython3",
   "version": "3.7.3"
  },
  "varInspector": {
   "cols": {
    "lenName": 16,
    "lenType": 16,
    "lenVar": 40
   },
   "kernels_config": {
    "python": {
     "delete_cmd_postfix": "",
     "delete_cmd_prefix": "del ",
     "library": "var_list.py",
     "varRefreshCmd": "print(var_dic_list())"
    },
    "r": {
     "delete_cmd_postfix": ") ",
     "delete_cmd_prefix": "rm(",
     "library": "var_list.r",
     "varRefreshCmd": "cat(var_dic_list()) "
    }
   },
   "oldHeight": 271,
   "position": {
    "height": "40px",
    "left": "1093px",
    "right": "20px",
    "top": "120px",
    "width": "327px"
   },
   "types_to_exclude": [
    "module",
    "function",
    "builtin_function_or_method",
    "instance",
    "_Feature"
   ],
   "varInspector_section_display": "none",
   "window_display": false
  }
 },
 "nbformat": 4,
 "nbformat_minor": 2
}
